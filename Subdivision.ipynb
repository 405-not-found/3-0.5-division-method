{
 "cells": [
  {
   "cell_type": "markdown",
   "metadata": {},
   "source": [
    "#  3^(0.5) division method proposed by Leif Kobbelt  in libgl"
   ]
  },
  {
   "cell_type": "markdown",
   "metadata": {},
   "source": [
    "## Import Related Dependencies"
   ]
  },
  {
   "cell_type": "code",
   "execution_count": 23,
   "metadata": {},
   "outputs": [],
   "source": [
    "import igl\n",
    "import math\n",
    "import scipy as sp\n",
    "import numpy as np\n",
    "from meshplot import plot, subplot, interact"
   ]
  },
  {
   "cell_type": "code",
   "execution_count": 24,
   "metadata": {},
   "outputs": [
    {
     "name": "stdout",
     "output_type": "stream",
     "text": [
      "[[2160    1    2]\n",
      " [   3    2    0]\n",
      " [ 118    0    1]\n",
      " ...\n",
      " [2159 2278 2279]\n",
      " [2222 2279 2277]\n",
      " [2275 2277 2278]]\n"
     ]
    },
    {
     "data": {
      "application/vnd.jupyter.widget-view+json": {
       "model_id": "c3aaa1c6d836406c88e7d92c28d49dcc",
       "version_major": 2,
       "version_minor": 0
      },
      "text/plain": [
       "Renderer(camera=PerspectiveCamera(children=(DirectionalLight(color='white', intensity=0.6, position=(0.0, 0.0,…"
      ]
     },
     "metadata": {},
     "output_type": "display_data"
    },
    {
     "data": {
      "application/vnd.jupyter.widget-view+json": {
       "model_id": "80fb55ef8f84451689cc89210d8f5ec9",
       "version_major": 2,
       "version_minor": 0
      },
      "text/plain": [
       "Renderer(camera=PerspectiveCamera(children=(DirectionalLight(color='white', intensity=0.6, position=(2.9802322…"
      ]
     },
     "metadata": {},
     "output_type": "display_data"
    },
    {
     "name": "stdout",
     "output_type": "stream",
     "text": [
      "[[2160    1    2]\n",
      " [   3    2    0]\n",
      " [ 118    0    1]\n",
      " ...\n",
      " [2159 2278 2279]\n",
      " [2222 2279 2277]\n",
      " [2275 2277 2278]]\n",
      "[[0 2 1]\n",
      " [0 2 1]\n",
      " [0 2 1]\n",
      " ...\n",
      " [0 2 1]\n",
      " [0 2 1]\n",
      " [0 2 1]]\n"
     ]
    }
   ],
   "source": [
    "# Read the files, named variable sphere but can be any shape\n",
    "\n",
    "v_sphere, f_sphere = igl.read_triangle_mesh(\"data/sphere.obj\")\n",
    "\n",
    "# Step 1: Add new  Vertex/Faces\n",
    "\n",
    "midpoints = []\n",
    "faces = []\n",
    "midpoint_index = len(v_sphere)\n",
    "\n",
    "# Iterate through the vertex, calculate the midpoints\n",
    "for face in f_sphere:\n",
    "    vertex1 = face[0]\n",
    "    vertex2 = face[1]\n",
    "    vertex3 = face[2]\n",
    "    vertex_m = (v_sphere[vertex1]+v_sphere[vertex2]+v_sphere[vertex3])/3\n",
    "    midpoints.append(vertex_m)\n",
    "    face1 = [vertex1, vertex2, midpoint_index]\n",
    "    face2 = [vertex2, vertex3, midpoint_index]\n",
    "    face3 = [vertex3, vertex1, midpoint_index]\n",
    "    midpoint_index += 1\n",
    "    faces.append(face1)\n",
    "    faces.append(face2)\n",
    "    faces.append(face3)\n",
    "\n",
    "\n",
    "m_v_sphere = np.array(midpoints)\n",
    "new_faces = np.array(faces)\n",
    "\n",
    "\n",
    "# New list of vertices and faces\n",
    "v_sphere_new = np.append(v_sphere, m_v_sphere).reshape(-1, 3)\n",
    "f_sphere_new = np.append(f_sphere, new_faces).reshape(-1, 3)\n",
    "\n",
    "# Step 2: Move the positions of the original\n",
    "\n",
    "adj_list = igl.adjacency_list(f_sphere)\n",
    "new_position = []\n",
    "for i in range(len(v_sphere)):\n",
    "    # Calculate an\n",
    "    an = (4-2*np.cos(2*math.pi/len(adj_list[i])))/9\n",
    "\n",
    "    # Calculate the sum of adj vertices\n",
    "    adj_positions = np.array([v_sphere[j] for j in adj_list[i]])\n",
    "    adj_sum = np.sum(adj_positions, axis=0)\n",
    "\n",
    "    # Calculate new position p\n",
    "    p = (1-an)*v_sphere[i]+an/len(adj_list[i])*adj_sum\n",
    "\n",
    "    new_position.append(p)\n",
    "\n",
    "new_positions = np.array(new_position)\n",
    "\n",
    "v_sub_mesh = np.append(new_positions, m_v_sphere).reshape(-1, 3)\n",
    "\n",
    "# Step 3: Flip Edges\n",
    "\n",
    "tt,tti=igl.triangle_triangle_adjacency(new_faces)\n",
    "\n",
    "# function to find similar two points\n",
    "def find_outer_triangle(trianglecurrent,triangle1, triangle2,triangle3):\n",
    "    if(trianglecurrent[2]!=triangle1[2]):\n",
    "        return triangle1\n",
    "    elif(trianglecurrent[2]!=triangle2[2]):\n",
    "        return triangle2\n",
    "    elif(trianglecurrent[2]!=triangle3[2]):\n",
    "        return triangle3\n",
    "\n",
    "\n",
    "f_final = []\n",
    "for i in range(len(new_faces)):\n",
    "    trianglecurrent = new_faces[i]\n",
    "    midpointcurrent = trianglecurrent[2]\n",
    "    triangle1=new_faces[tt[i][0]]\n",
    "    triangle2=new_faces[tt[i][1]]\n",
    "    triangle3=new_faces[tt[i][2]]\n",
    "    outertriangle=find_outer_triangle(trianglecurrent,triangle1, triangle2,triangle3)\n",
    "    midpointouter=outertriangle[2]\n",
    "    face1=[midpointcurrent,midpointouter,trianglecurrent[0]]\n",
    "    face2=[midpointcurrent,midpointouter,trianglecurrent[1]]\n",
    "    f_final.append(face1)\n",
    "    f_final.append(face2)\n",
    "\n",
    "f_final = np.array(f_final)\n",
    "\n",
    "print(tt)\n",
    "plot(v_sphere,f_sphere, shading={\"wireframe\": True})\n",
    "plot(v_sub_mesh, f_final, shading={\"wireframe\": True})\n",
    "\n",
    "print(tt)\n",
    "print(tti)\n",
    "\n"
   ]
  }
 ],
 "metadata": {
  "kernelspec": {
   "display_name": "Python 3",
   "language": "python",
   "name": "python3"
  },
  "language_info": {
   "codemirror_mode": {
    "name": "ipython",
    "version": 3
   },
   "file_extension": ".py",
   "mimetype": "text/x-python",
   "name": "python",
   "nbconvert_exporter": "python",
   "pygments_lexer": "ipython3",
   "version": "3.11.8"
  }
 },
 "nbformat": 4,
 "nbformat_minor": 2
}
